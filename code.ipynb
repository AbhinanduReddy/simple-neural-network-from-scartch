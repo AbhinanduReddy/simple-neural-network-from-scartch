{
  "nbformat": 4,
  "nbformat_minor": 0,
  "metadata": {
    "colab": {
      "name": "Untitled18.ipynb",
      "provenance": [],
      "authorship_tag": "ABX9TyPSFuGk0ElFI+JPhAstOKHs",
      "include_colab_link": true
    },
    "kernelspec": {
      "name": "python3",
      "display_name": "Python 3"
    }
  },
  "cells": [
    {
      "cell_type": "markdown",
      "metadata": {
        "id": "view-in-github",
        "colab_type": "text"
      },
      "source": [
        "<a href=\"https://colab.research.google.com/github/AbhinanduReddy/simple-neural-network-from-scartch/blob/master/code.ipynb\" target=\"_parent\"><img src=\"https://colab.research.google.com/assets/colab-badge.svg\" alt=\"Open In Colab\"/></a>"
      ]
    },
    {
      "cell_type": "code",
      "metadata": {
        "id": "g8fFhMZi4oNV",
        "colab_type": "code",
        "colab": {}
      },
      "source": [
        "x1=0.502\n",
        "x2=0.230\n",
        "\n",
        "b1 = 0.334\n",
        "b2 = 0.430\n",
        "\n",
        "w1=0.34\n",
        "w2=0.230\n",
        "w3=0.332\n",
        "w4=0.304\n",
        "w5=0.132\n",
        "w6=0.534\n",
        "\n",
        "t=0.04\n",
        "\n",
        "alpha=0.424"
      ],
      "execution_count": 27,
      "outputs": []
    },
    {
      "cell_type": "code",
      "metadata": {
        "id": "JIjGHhG4WbWH",
        "colab_type": "code",
        "colab": {}
      },
      "source": [
        "import math\n",
        "\n",
        "def sigmoid(x):\n",
        "  return 1 / (1 + math.exp(-x))"
      ],
      "execution_count": 28,
      "outputs": []
    },
    {
      "cell_type": "code",
      "metadata": {
        "id": "ygjRjr8q5acL",
        "colab_type": "code",
        "colab": {}
      },
      "source": [
        "def forward(w1,w2,w3,w4,w5,w6,x1,x2,b1,b2):\n",
        "  h1=w1*x1+w2*x2+b1\n",
        "  outh1=sigmoid(h1)\n",
        "  h2=w3*x1+w4*x2+b2\n",
        "  outh2=sigmoid(h2)\n",
        "  y=outh1*w5+outh2*w6\n",
        "  outy=sigmoid(y)\n",
        "  return h1,h2,y,outh1,outh2,outy\n"
      ],
      "execution_count": 32,
      "outputs": []
    },
    {
      "cell_type": "code",
      "metadata": {
        "id": "yHxkKpXu5dG7",
        "colab_type": "code",
        "colab": {}
      },
      "source": [
        "def backpass(t,outy,outh1,outh2,w1,w2,w3,w4,w5,w6,b1,b2,x1,x2,alpha):\n",
        "  dw5=-(t-outy)*outy*(1-outy)*outh1\n",
        "  dw6=-(t-outy)*outy*(1-outy)*outh2\n",
        "  db2=-(t-outy)*outy*(1-outy)\n",
        "  dw1=-(t-outy)*outy*(1-outy)*w5*outh1*(1-outh1)*x1\n",
        "  dw2=-(t-outy)*outy*(1-outy)*w5*outh1*(1-outh1)*x2\n",
        "  dw3=-(t-outy)*outy*(1-outy)*w6*outh2*(1-outh2)*x1\n",
        "  dw4=-(t-outy)*outy*(1-outy)*w5*outh2*(1-outh2)*x2\n",
        "  db1=-(t-outy)*outy*(1-outy)*w5*outh1*(1-outh1)\n",
        "  w1=w1-alpha*dw1\n",
        "  w2=w2-alpha*dw2\n",
        "  w3=w3-alpha*dw3\n",
        "  w4=w4-alpha*dw4\n",
        "  w5=w5-alpha*dw5\n",
        "  w6=w6-alpha*dw6\n",
        "  b1=b1-alpha*db1\n",
        "  b2=b2-alpha*db2\n",
        "  return w1,w2,w3,w4,w5,w6,b1,b2"
      ],
      "execution_count": 33,
      "outputs": []
    },
    {
      "cell_type": "code",
      "metadata": {
        "id": "OZ3_kHUQZXHB",
        "colab_type": "code",
        "colab": {
          "base_uri": "https://localhost:8080/",
          "height": 51
        },
        "outputId": "48b1ffc0-26eb-4318-ada4-f8ecae569e1e"
      },
      "source": [
        "h1,h2,y,outh1,outh2,outy=forward(w1,w2,w3,w4,w5,w6,x1,x2,b1,b2)\n",
        "print(((t-outy)**2)/2)\n",
        "w1,w2,w3,w4,w5,w6,b1,b2=backpass(t,outy,outh1,outh2,w1,w2,w3,w4,w5,w6,b1,b2,x1,x2,alpha)\n",
        "h1,h2,y,outh1,outh2,outy=forward(w1,w2,w3,w4,w5,w6,x1,x2,b1,b2)\n",
        "\n",
        "print(((t-outy)**2)/2)\n"
      ],
      "execution_count": 34,
      "outputs": [
        {
          "output_type": "stream",
          "text": [
            "0.15363217439931726\n",
            "0.14662167735991927\n"
          ],
          "name": "stdout"
        }
      ]
    },
    {
      "cell_type": "code",
      "metadata": {
        "id": "tWBrUCDEa_g6",
        "colab_type": "code",
        "colab": {}
      },
      "source": [
        ""
      ],
      "execution_count": null,
      "outputs": []
    }
  ]
}